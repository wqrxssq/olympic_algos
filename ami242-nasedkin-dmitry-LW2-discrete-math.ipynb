{
 "cells": [
  {
   "cell_type": "markdown",
   "id": "8cdfc76b",
   "metadata": {
    "id": "8cdfc76b"
   },
   "source": [
    "# Лабораторная работа 2, ПМИ 2024/25, I курс, М+, дискретная математика.\n",
    "Это ноутбук с задачами, которые будут проверяться вручную. При решении задач можно использовать всю стандартную библиотеку Python, а также NetworkX, Matplotlib, numpy и их зависимости. Использование любых других сторонних библиотек запрещено.\n",
    "\n",
    "При решении ноутбука вам потребуется писать доказательства. Убедительная просьба аккуратно оформлять математические выкладки:\n",
    "- всё, что не является кодом, в ноутбуке должно быть в Markdown ячейках\n",
    "- в Markdown можно писать $\\LaTeX$-овские математические формулы:\n",
    "  - однострочные: `$f(x_1, \\dots, x_n) = \\bigwedge_{i=1}^n x_i$`: $f(x_1, \\dots, x_n) = \\bigwedge_{i=1}^n x_i$\n",
    "  - многострочные: `$$f(x_1, \\dots, x_n) = \\bigwedge_{i=1}^n x_i$$`: $$f(x_1, \\dots, x_n) = \\bigwedge_{i=1}^n x_i$$\n",
    "  - упоминание любых математических объектов также желательно писать в `$...$`, даже если их названия однобуквенные, например:\n",
    "\n",
    "> Функция $f$ непрерывна по переменной $x$ на множестве $A \\subseteq \\mathbb{R}^2$...\n",
    "  \n",
    "Пожалуйста, используйте эти возможности Jupyter Notebook. В этой работе не будет громоздких выкладок, поэтому их оформление не должно вызвать затруднений.\n",
    "  \n",
    "Удачи!"
   ]
  },
  {
   "cell_type": "code",
   "execution_count": 92,
   "id": "13cc3fcc-e74b-436c-afc8-e50b7f3a5ac7",
   "metadata": {
    "id": "13cc3fcc-e74b-436c-afc8-e50b7f3a5ac7"
   },
   "outputs": [
    {
     "name": "stderr",
     "output_type": "stream",
     "text": [
      "75801.96s - pydevd: Sending message related to process being replaced timed-out after 5 seconds\n"
     ]
    },
    {
     "name": "stdout",
     "output_type": "stream",
     "text": [
      "\u001b[1;31merror\u001b[0m: \u001b[1mexternally-managed-environment\u001b[0m\n",
      "\n",
      "\u001b[31m×\u001b[0m This environment is externally managed\n",
      "\u001b[31m╰─>\u001b[0m To install Python packages system-wide, try brew install\n",
      "\u001b[31m   \u001b[0m xyz, where xyz is the package you are trying to\n",
      "\u001b[31m   \u001b[0m install.\n",
      "\u001b[31m   \u001b[0m \n",
      "\u001b[31m   \u001b[0m If you wish to install a Python library that isn't in Homebrew,\n",
      "\u001b[31m   \u001b[0m use a virtual environment:\n",
      "\u001b[31m   \u001b[0m \n",
      "\u001b[31m   \u001b[0m python3 -m venv path/to/venv\n",
      "\u001b[31m   \u001b[0m source path/to/venv/bin/activate\n",
      "\u001b[31m   \u001b[0m python3 -m pip install xyz\n",
      "\u001b[31m   \u001b[0m \n",
      "\u001b[31m   \u001b[0m If you wish to install a Python application that isn't in Homebrew,\n",
      "\u001b[31m   \u001b[0m it may be easiest to use 'pipx install xyz', which will manage a\n",
      "\u001b[31m   \u001b[0m virtual environment for you. You can install pipx with\n",
      "\u001b[31m   \u001b[0m \n",
      "\u001b[31m   \u001b[0m brew install pipx\n",
      "\u001b[31m   \u001b[0m \n",
      "\u001b[31m   \u001b[0m You may restore the old behavior of pip by passing\n",
      "\u001b[31m   \u001b[0m the '--break-system-packages' flag to pip, or by adding\n",
      "\u001b[31m   \u001b[0m 'break-system-packages = true' to your pip.conf file. The latter\n",
      "\u001b[31m   \u001b[0m will permanently disable this error.\n",
      "\u001b[31m   \u001b[0m \n",
      "\u001b[31m   \u001b[0m If you disable this error, we STRONGLY recommend that you additionally\n",
      "\u001b[31m   \u001b[0m pass the '--user' flag to pip, or set 'user = true' in your pip.conf\n",
      "\u001b[31m   \u001b[0m file. Failure to do this can result in a broken Homebrew installation.\n",
      "\u001b[31m   \u001b[0m \n",
      "\u001b[31m   \u001b[0m Read more about this behavior here: <https://peps.python.org/pep-0668/>\n",
      "\n",
      "\u001b[1;35mnote\u001b[0m: If you believe this is a mistake, please contact your Python installation or OS distribution provider. You can override this, at the risk of breaking your Python installation or OS, by passing --break-system-packages.\n",
      "\u001b[1;36mhint\u001b[0m: See PEP 668 for the detailed specification.\n",
      "Note: you may need to restart the kernel to use updated packages.\n"
     ]
    }
   ],
   "source": [
    "%pip install ipytest"
   ]
  },
  {
   "cell_type": "code",
   "execution_count": 93,
   "id": "be4c2e00-f183-4518-ad02-63951995af6c",
   "metadata": {
    "id": "be4c2e00-f183-4518-ad02-63951995af6c"
   },
   "outputs": [],
   "source": [
    "import ipytest\n",
    "ipytest.autoconfig()"
   ]
  },
  {
   "cell_type": "markdown",
   "id": "316a8429",
   "metadata": {
    "id": "316a8429"
   },
   "source": [
    "# Задание 1. Случайные раскраски графов (1.5 балла)\n",
    "Вас уже давно мучает мысль, что ваш город — серый и унылый. Но сегодня пришло время это исправить! Вооружившись балончиками с красками, вы выходите из дома и полны решимости расцветить город.  "
   ]
  },
  {
   "cell_type": "markdown",
   "id": "90987fc7",
   "metadata": {
    "id": "90987fc7"
   },
   "source": [
    "Город в котором вы живете — это простой неориентированный граф. Вы законопослушный гражданин, поэтому хотите, чтобы раскраска была как можно более _правильной_. Напомним, что раскраска вершин графа называется _правильной_, если никакие две одноцветные вершины не являются смежными.\n",
    "\n",
    "В вашем распоряжении $n$ красок. Каждая вершина графа раскрашивается равновероятно в один из цветов.\n",
    "\n",
    "_Задание_. Напишите функцию `random_coloring_impropriety`, которая генерирует случайную вершинную раскраску графа на $n$ цветах и возвращает _неправильность_ раскраски — количество ребер графа, у которых инцидентные им вершины раскрашены в одинковый цвет. Из опредедения следует, что раскраска правильная, если её неправильность равна нулю.\n",
    "\n",
    "_Замечание_: обычно неправильностью раскраски называют другую величину, а именно максимум из неправильностей вершин. Неправильностью вершины называют число смежных с ней вершин того же цвета. Несложно понять, что в нашем определении неправильность — это полусумма неправильностей вершин."
   ]
  },
  {
   "cell_type": "code",
   "execution_count": 94,
   "id": "d4627e39",
   "metadata": {
    "id": "d4627e39"
   },
   "outputs": [],
   "source": [
    "import networkx as nx\n",
    "import matplotlib.pyplot as plt\n",
    "import random\n",
    "import numpy as np"
   ]
  },
  {
   "cell_type": "code",
   "execution_count": 95,
   "id": "088eb9e6",
   "metadata": {
    "id": "088eb9e6"
   },
   "outputs": [],
   "source": [
    "def random_coloring_impropriety(G: nx.Graph, n: int) -> int:\n",
    "    colors = {v: random.randrange(n) for v in G.nodes()}\n",
    "    inaccuracy = 0\n",
    "    for u, v in G.edges():\n",
    "        if colors[u] == colors[v]:\n",
    "            inaccuracy += 1\n",
    "    return inaccuracy"
   ]
  },
  {
   "cell_type": "markdown",
   "id": "ee0ed136",
   "metadata": {
    "id": "ee0ed136"
   },
   "source": [
    "Теперь возьмите какой-нибудь граф $G$ (можно, например, сгенерировать граф с помощью какого-нибудь из [генераторов](https://networkx.org/documentation/stable/reference/generators.html), доступных в Networkx) и с помощью _метода Монте-Карло_ найдите распределение неправильности раскраски для графа $G$. Для этого многократно ($A$ раз) вызовите функцию `random_coloring_impropriety` и примите вероятность значения $x$ равной $\\frac{A_x}{A}$, где $A_x$ — это то, сколько раз среди $A$ запусков функция вернула значение $x$. Визуализируйте полученное распределение с помощью Matplotlib.\n",
    "\n",
    "Обратите внимание, что вы ищите распределение для _фиксированного_ графа, а потому все \"эксперименты\" метода Монте-Карло должны быть над одним и тем же графом."
   ]
  },
  {
   "cell_type": "code",
   "execution_count": 96,
   "id": "0ddea869",
   "metadata": {
    "id": "0ddea869"
   },
   "outputs": [
    {
     "data": {
      "image/png": "[encoded data removed]",
      "text/plain": [
       "<Figure size 640x480 with 1 Axes>"
      ]
     },
     "metadata": {},
     "output_type": "display_data"
    }
   ],
   "source": [
    "from collections import Counter\n",
    "\n",
    "def monte_carlo(G: nx.Graph, n: int, A: int):\n",
    "    results = [random_coloring_impropriety(G, n) for _ in range(A)]\n",
    "    Ax = Counter(results)\n",
    "    probabilities = {x: count / A for x, count in Ax.items()}\n",
    "    return probabilities\n",
    "\n",
    "def build_plot(probabilities):\n",
    "    plt.bar(probabilities.keys(), probabilities.values())\n",
    "    plt.xlabel('Неправильность раскраски')\n",
    "    plt.ylabel('Вероятность')\n",
    "    plt.title('Распределение')\n",
    "    plt.xticks(sorted(probabilities.keys()))\n",
    "    plt.yticks([k for k in np.arange(0, 0.3, 0.05)])\n",
    "    plt.show()\n",
    "\n",
    "cnt_verticies = 20\n",
    "n = 5\n",
    "G = nx.gnp_random_graph(cnt_verticies, 0.2)\n",
    "A = 10000\n",
    "\n",
    "distribution = monte_carlo(G, n, A)\n",
    "build_plot(distribution)"
   ]
  },
  {
   "cell_type": "markdown",
   "id": "db3b35a8",
   "metadata": {
    "id": "db3b35a8"
   },
   "source": [
    "_Задача_: пусть $G$ — дерево на $m$ вершинах, а количество цветов равно $2$. Найдите распределение неправильности в этом случае, т.е. для каждого возможного значения неправильности найдите вероятность достижения этого значения."
   ]
  },
  {
   "cell_type": "markdown",
   "id": "40932bdd",
   "metadata": {
    "id": "40932bdd"
   },
   "source": [
    "Рассмотрим дерево $G$ на $m$ вершинах. Так как это дерево, мы знаем, что оно имеет $m-1$ ребро. Давайте найдем вероятность того, что одно конкретное ребро будет неправильным(всего существует $2^2$ вариантов, и нас устраивает только 2 из них):\n",
    "\n",
    "$$\n",
    "P(\\text{ребро неправильное}) = \\frac{2}{4} = \\frac{1}{2}\n",
    "$$\n",
    "\n",
    "В обратном случае, ребро правильное, то есть: $$P(\\text{ребро правильное}) = 1 - \\frac{1}{2} = \\frac{1}{2}$$\n",
    "\n",
    "Осталось заметить, что события (ребро правильное\\неправильное) независимы в совокупности. Доказательство, например, по индукции, выберем произвольное подмножество ребер размера $k$, тогда добавив еще одно ребро вероятность пересечения будет равно вероятности, если бы мы просто перемножили(так, как наш граф это дерево, то добавление любого ребра уменьшает количество компонент на 1, а значит правильность \"нового ребра\" никак не зависит от правильности/неправильности предыдущих)\n",
    "\n",
    "Тогда:\n",
    "$$\n",
    "P(\\text{неправильность} = k) = \\binom{m-1}{k} \\left(\\frac{1}{2}\\right)^{k} \\cdot \\left(\\frac{1}{2}\\right)^{m - 1 - k} = \\binom{m - 1}{k} \\cdot \\left(\\frac{1}{2}\\right)^{m - 1}, \\quad \\forall k=0,1,\\dots, m-1.\n",
    "$$\n"
   ]
  },
  {
   "cell_type": "markdown",
   "id": "9e235916",
   "metadata": {
    "id": "9e235916"
   },
   "source": [
    "# Задание 2. Отношения (1.5 балла)\n",
    "Нет, всё куда более прозаично. Хотя, возможно, не менее сложно.\n",
    "\n",
    "Даны три конечных множества $K, M, N$ и бинарные отношения $A \\subseteq K \\times N$ и $B \\subseteq K \\times M$ на них. Требуется решить уравнение $A = X \\circ B$, т.е. либо найти такое отношение $X \\subseteq M \\times N$, что $A = X \\circ B$, либо проверить, что такого отношения нет.\n",
    "\n",
    "_Задание_: реализуйте функцию `solve_binary_relation_equation`, которая принимает матрицы  $A \\in M_{|K| \\times |N|}(\\mathbb{B})$ и $B \\in M_{|K| \\times |M|}(\\mathbb{B})$, где $\\mathbb{B} = \\{ \\texttt{False}, \\texttt{True} \\}$, задающие отношения $A$ и $B$ соответственно ($x A y$, если `A[x][y] == 1`). Функция должна вернуть матрицу $X \\in M_{|M| \\times |N|}(\\mathbb{B})$, задающую отношение $X$, либо `None`, если решения не существует. Если решений несколько, можно вернуть любое.\n",
    "\n",
    "_Условие на эффективность_: эта задача очень коротко решается с использованием булевых матричных операций. Напишите код таким образом, чтобы он не содержал явных циклов и занимал не более пяти строк кода. За нарушение этого ограничения будут сняты баллы."
   ]
  },
  {
   "cell_type": "code",
   "execution_count": 97,
   "id": "64625315-f1f5-4f74-84af-cc1b827f2e61",
   "metadata": {
    "id": "64625315-f1f5-4f74-84af-cc1b827f2e61"
   },
   "outputs": [],
   "source": [
    "import numpy as np"
   ]
  },
  {
   "cell_type": "code",
   "execution_count": 98,
   "id": "d9fb8d2d",
   "metadata": {
    "id": "d9fb8d2d"
   },
   "outputs": [],
   "source": [
    "def solve_binary_relation_equation(A: np.ndarray, B: np.ndarray) -> np.ndarray | None:\n",
    "    X = np.all(np.logical_or(~B[:, :, None], A[:, None, :]), axis=0)\n",
    "    return X if np.array_equal(A, np.any(np.logical_and(B[:, :, None], X[None, :, :]), axis=1)) else None\n"
   ]
  },
  {
   "cell_type": "markdown",
   "id": "2c6d80c0",
   "metadata": {
    "id": "2c6d80c0"
   },
   "source": [
    "Пример:\n",
    "$$ K = \\{ k_1, k_2 \\}, M = \\{ m_1, m_2 \\}, N = \\{ n_1, n_2, n_3 \\} $$\n",
    "$$ A = \\{ (k_1, n_1), (k_1, n_3), (k_2, n_1) \\}, B = \\{ (k_1, m_1), (k_2, m_2) \\} $$\n",
    "Тогда единственное решение $A = X \\circ B$ такое: $$X = \\{ (m_1, n_1), (m_1, n_3), (m_2, n_1) \\} $$"
   ]
  },
  {
   "cell_type": "code",
   "execution_count": 99,
   "id": "00849c36",
   "metadata": {
    "id": "00849c36"
   },
   "outputs": [],
   "source": [
    "A = np.array([[True, False, True], [True, False, False]])\n",
    "B = np.array([[True, False], [False, True]])\n",
    "X = solve_binary_relation_equation(A, B)\n",
    "assert np.array_equal(B @ X, A)"
   ]
  },
  {
   "cell_type": "code",
   "execution_count": 100,
   "id": "2360a199-f6c3-43ea-9477-419d955ff4bd",
   "metadata": {
    "id": "2360a199-f6c3-43ea-9477-419d955ff4bd"
   },
   "outputs": [
    {
     "name": "stdout",
     "output_type": "stream",
     "text": [
      "\u001b[32m.\u001b[0m\u001b[32m.\u001b[0m\u001b[32m.\u001b[0m\u001b[32m.\u001b[0m\u001b[32m.\u001b[0m\u001b[32m.\u001b[0m\u001b[32m                                                                                       [100%]\u001b[0m\n",
      "\u001b[32m\u001b[32m\u001b[1m6 passed\u001b[0m\u001b[32m in 0.31s\u001b[0m\u001b[0m\n"
     ]
    }
   ],
   "source": [
    "%%ipytest\n",
    "import pytest\n",
    "\n",
    "@pytest.mark.parametrize(\"A,B\", [\n",
    "    (np.eye(5, dtype=bool), np.eye(5, 6, dtype=bool)),\n",
    "    (np.ones((3, 4), bool), np.ones((3, 1), bool)),\n",
    "    (np.zeros((2, 3), bool), np.ones((2, 5), bool)),\n",
    "    (\n",
    "        np.array([[True, False], [True, True], [True, True]]),\n",
    "        np.array([[False, True], [True, False], [True, True]])\n",
    "    )\n",
    "])\n",
    "def test_solution_exists(A: np.ndarray, B: np.ndarray):\n",
    "    X = solve_binary_relation_equation(A, B)\n",
    "    assert X is not None\n",
    "    assert X.dtype == bool\n",
    "    assert np.array_equal(B @ X, A)\n",
    "\n",
    "\n",
    "@pytest.mark.parametrize(\"A,B\", [\n",
    "    (np.eye(5, 7, dtype=bool), np.zeros((5, 8), bool)),\n",
    "    (\n",
    "        np.array([\n",
    "            [False,  True, False, False],\n",
    "            [ True,  True,  True, False],\n",
    "            [False,  True,  True,  True]\n",
    "        ]),\n",
    "        np.array([\n",
    "            [ True,  True,  True],\n",
    "            [ True, False, False],\n",
    "            [False,  True,  True]\n",
    "        ])\n",
    "    )\n",
    "])\n",
    "def test_no_solution(A: np.ndarray, B: np.ndarray):\n",
    "    assert solve_binary_relation_equation(A, B) is None"
   ]
  },
  {
   "cell_type": "markdown",
   "id": "b9eada23",
   "metadata": {
    "id": "b9eada23"
   },
   "source": [
    "Обоснуйте корректность алгоритма."
   ]
  },
  {
   "cell_type": "markdown",
   "id": "a4506bd2",
   "metadata": {
    "id": "a4506bd2"
   },
   "source": [
    "_Обоснование_:\n",
    "\n",
    "Наш алгоритм делает следующее: \n",
    "$$\n",
    "X(m,n)=1 \\quad\\text{если} \\ \\ \\forall k \\ \\ \\text{верно, что} \\ \\ (!B(k,m) \\vee A(k,n))\n",
    "$$\n",
    "\n",
    "После чего проверяет, что $A = X \\circ B$, иначе выводит $\\text{None}$\n",
    "\n",
    "Докажем, что это верно:\n",
    "\n",
    "Рассмотрим любой $X$ с условием, что $A = X \\circ B$. Рассмотрим любое ребро $(m, n) \\in X$, теперь возьмем произвольное $k \\in K$, и заметим, что оно удовлетворяет $(!B(k,m) \\vee A(k,n))$, то есть главное, чтобы не выполнялось что $B(k, m)$ есть, а $A(k, n)$, нет, так как по правому равенству путь есть, а по левому нет. И теперь осталось сказать, что если мы добавим в $X$ еще ребер с условием $X(m,n)=1 \\quad\\text{если} \\ \\ \\forall k \\ \\ \\text{верно, что} \\ \\ (!B(k,m) \\vee A(k,n))$, то решение останется верным(противоречий не появится, а старые пути все также будут существовать). А значит, если решение существует, то наш алгоритм, действительно его находит, иначе выведет $\\text{None}$."
   ]
  },
  {
   "cell_type": "markdown",
   "id": "f06e7928",
   "metadata": {
    "id": "f06e7928"
   },
   "source": [
    "# Задание 3. Производящие функции, Pythonic edition (2 балла)\n",
    "\n",
    "В этом задании вам требуется написать класс производящей функции. Ниже приведен интерфейс класса. Все эти методы нужно реализовать. Еще ниже приведены тесты, которые можно и нужно запускать и смотреть.\n",
    "\n",
    "Общая концепция: в классе хранится единственное поле `func`, которое возвращает коэффициенты последовательности. Все операции над производящими функциями делаются лениво. В реализации операций не надо копировать аргументы. Реализуйте операции таким образом, чтобы они сохраняли целочисленность производящей функции, в том числе в делении, если это возможно."
   ]
  },
  {
   "cell_type": "code",
   "execution_count": 104,
   "id": "80018e43",
   "metadata": {
    "id": "80018e43"
   },
   "outputs": [],
   "source": [
    "from typing import Callable, Iterable, Self, Sequence\n",
    "\n",
    "Number = int | float\n",
    "\n",
    "def safeDiv(numerator: Number, denominator: Number) -> Number:\n",
    "    if isinstance(numerator, int) and isinstance(denominator, int) and numerator % denominator == 0:\n",
    "        return numerator // denominator\n",
    "    return numerator / denominator\n",
    "\n",
    "\n",
    "class GeneratingFunction:\n",
    "    __slots__ = [\"func\"]\n",
    "\n",
    "    def __init__(self, func: Callable[[int], Number]):\n",
    "        self.func = func\n",
    "\n",
    "    @staticmethod\n",
    "    def const(value: Number):\n",
    "        \"\"\"value + 0x + 0x² + ...\"\"\"\n",
    "        return GeneratingFunction(lambda n: value if n == 0 else 0)\n",
    "\n",
    "    @staticmethod\n",
    "    def finite(values: Sequence[Number]):\n",
    "        \"\"\"values[0] + values[1]·x + ... + values[n]·xⁿ\"\"\"\n",
    "        return GeneratingFunction(lambda n: values[n] if n < len(values) else 0)\n",
    "\n",
    "    def __add__(self, other: Number | Self):\n",
    "        if isinstance(other, Number):\n",
    "            other = GeneratingFunction.const(other)\n",
    "        return GeneratingFunction(lambda n: self.func(n) + other.func(n))\n",
    "\n",
    "    def __radd__(self, other: Number):\n",
    "        return self + other\n",
    "\n",
    "    def __sub__(self, other: Number | Self):\n",
    "        if isinstance(other, Number):\n",
    "            other = GeneratingFunction.const(other)\n",
    "        return self + -other\n",
    "\n",
    "    def __rsub__(self, other: Number):\n",
    "        return -self + other\n",
    "\n",
    "    def __mul__(self, other: Number | Self):\n",
    "        if (isinstance(other, Number)):\n",
    "            return GeneratingFunction(lambda n: self.func(n) * other)\n",
    "        def mul_coeff(n: int) -> Number:\n",
    "            s = 0\n",
    "            for i in range(n + 1):\n",
    "                s += self.func(i) * other.func(n - i)\n",
    "            return s\n",
    "        return GeneratingFunction(mul_coeff)\n",
    "\n",
    "    def __rmul__(self, other: Number):\n",
    "        return self * other\n",
    "\n",
    "    def __truediv__(self, other: Number | Self):\n",
    "        if (isinstance(other, Number)):\n",
    "            return GeneratingFunction(lambda n: safeDiv(self.func(n), other))\n",
    "        b0 = other.func(0)\n",
    "        if b0 == 0:\n",
    "            raise ZeroDivisionError(\"b doesn't have b^{-1}!\")\n",
    "        \n",
    "        cache: list[Number] = []\n",
    "        def q(n: int) -> Number:\n",
    "            while len(cache) <= n:\n",
    "                m = len(cache)\n",
    "                a_m = self.func(m)\n",
    "                s = 0\n",
    "                for i in range(1, m + 1):\n",
    "                    s += other.func(i) * cache[m - i]\n",
    "                cache.append(safeDiv(a_m - s, b0))\n",
    "            return cache[n]\n",
    "        return GeneratingFunction(q)\n",
    "\n",
    "    def __rtruediv__(self, other: Number):\n",
    "        return GeneratingFunction.const(other) / self\n",
    "\n",
    "    def __pow__(self, pow: int):\n",
    "        # Возведение в степень должно работать за O(log(abs(pow)))\n",
    "        if pow < 0:\n",
    "            self = GeneratingFunction.const(1) / self\n",
    "            pow *= -1\n",
    "\n",
    "        def bin_pow(a: Self, p: int) -> Self:\n",
    "            if p == 0:\n",
    "                return GeneratingFunction.const(1)\n",
    "            if p % 2 == 0:\n",
    "                temp = bin_pow(a, p // 2)\n",
    "                return temp * temp\n",
    "            return bin_pow(a, p - 1) * a\n",
    "\n",
    "        return bin_pow(self, pow)\n",
    "\n",
    "    def __neg__(self):\n",
    "        return GeneratingFunction(lambda n: -self.func(n))\n",
    "\n",
    "    def __getitem__(self, key: int) -> Number | list[Number]:\n",
    "        if isinstance(key, slice):\n",
    "            return list(map(self.func, range(*key.indices(key.stop))))\n",
    "        return self.func(key)\n",
    "\n",
    "    def __format__(self, format_spec: str) -> str:\n",
    "        \"\"\"\n",
    "        Через `format_spec` можно указать, сколько первых членов ряда нужно вывести.\n",
    "        Наример, `print(f\"{fibb:4}\")` выводит что-то типа \"1 + 1x + 2x² + 3x³ + …\".\n",
    "        \"\"\"\n",
    "        # эта функция не проверяется в тестах\n",
    "        # можно не убирать лишние знаки '-', единичные коэффиценты и пр.\n",
    "        count = int(format_spec) if format_spec else 10\n",
    "\n",
    "        terms = []\n",
    "        for n in range(count):\n",
    "            coeff = self.func(n)\n",
    "            if coeff == 0:\n",
    "                continue\n",
    "            if n == 0:\n",
    "                terms.append(f\"{coeff}\")\n",
    "            elif n == 1:\n",
    "                terms.append(f\"{coeff}x\")\n",
    "            else:\n",
    "                terms.append(f\"{coeff}x^{n}\")\n",
    "        s = \" + \".join(terms) if terms else \"0\"\n",
    "        return s + \" + …\"\n",
    "\n",
    "    def __str__(self) -> str:\n",
    "        return f\"{self}\"\n",
    "\n",
    "    def derivative(self):\n",
    "        return GeneratingFunction(lambda n: (n + 1) * self.func(n + 1))\n",
    "\n",
    "    def __iter__(self) -> Iterable[Number]:\n",
    "        n = 0\n",
    "        while True:\n",
    "            yield self.func(n)\n",
    "            n += 1"
   ]
  },
  {
   "cell_type": "code",
   "execution_count": 105,
   "id": "ac002606",
   "metadata": {
    "id": "ac002606"
   },
   "outputs": [
    {
     "name": "stdout",
     "output_type": "stream",
     "text": [
      "1 + 1x + 2x^2 + 3x^3 + 5x^4 + 8x^5 + 13x^6 + 21x^7 + 34x^8 + 55x^9 + 89x^10 + …\n"
     ]
    }
   ],
   "source": [
    "x = GeneratingFunction.finite([0, 1])\n",
    "fibb_gen = -(x ** 2 + x - 1) ** -1\n",
    "print(f\"{fibb_gen:11}\")\n",
    "assert(fibb_gen[10] == 89)"
   ]
  },
  {
   "cell_type": "code",
   "execution_count": 106,
   "id": "a00a18cf",
   "metadata": {
    "id": "a00a18cf"
   },
   "outputs": [
    {
     "name": "stdout",
     "output_type": "stream",
     "text": [
      "\u001b[32m.\u001b[0m\u001b[32m.\u001b[0m\u001b[32m.\u001b[0m\u001b[32m.\u001b[0m\u001b[32m.\u001b[0m\u001b[32m.\u001b[0m\u001b[32m.\u001b[0m\u001b[32m.\u001b[0m\u001b[32m                                                                                     [100%]\u001b[0m\n",
      "\u001b[32m\u001b[32m\u001b[1m8 passed\u001b[0m\u001b[32m in 13.38s\u001b[0m\u001b[0m\n"
     ]
    }
   ],
   "source": [
    "%%ipytest\n",
    "from itertools import islice\n",
    "\n",
    "def fibb(n: int):\n",
    "    a, b = 1, 1\n",
    "    for _ in range(n):\n",
    "        a, b = b, a + b\n",
    "    return a\n",
    "\n",
    "\n",
    "def test_init():\n",
    "    assert list(islice(GeneratingFunction(lambda x: x * x), 5)) == [0, 1, 4, 9, 16]\n",
    "\n",
    "\n",
    "def test_finite():\n",
    "    assert (\n",
    "        list(islice(GeneratingFunction.finite([2, 4, 1, 5]), 10))\n",
    "        == [2, 4, 1, 5] + [0] * 6\n",
    "    )\n",
    "\n",
    "    coeffs = range(4)\n",
    "    poly = GeneratingFunction.finite(coeffs)\n",
    "    assert list(islice(poly, 5)) == [0, 1, 2, 3, 0]\n",
    "    assert list(islice(poly, 3)) == [0, 1, 2]\n",
    "\n",
    "\n",
    "def test_const():\n",
    "    assert list(islice(GeneratingFunction.const(9), 3)) == [9, 0, 0]\n",
    "\n",
    "\n",
    "def test_add():\n",
    "    x = GeneratingFunction.finite([1, 2, 3, 4])\n",
    "    y = GeneratingFunction.finite([6, 3, 1])\n",
    "    z = GeneratingFunction(lambda i: i * i)\n",
    "    assert (x + y)[:5] == [7, 5, 4, 4, 0]\n",
    "    assert (x + y)[10**9] == 0\n",
    "    assert (z + z)[10**9] == 2 * 10**18\n",
    "\n",
    "    assert (z + 7)[:3] == [7, 1, 4]\n",
    "    assert (42 + x)[:5] == [43, 2, 3, 4, 0]\n",
    "\n",
    "\n",
    "def test_sub_neg():\n",
    "    a = GeneratingFunction.finite([1, 2, 3, 4])\n",
    "    assert (-a)[:5] == [-1, -2, -3, -4, 0]\n",
    "    assert (a - a)[:100] == [0] * 100\n",
    "    assert (a - 42)[:5] == [-41, 2, 3, 4, 0]\n",
    "    assert (57 - a)[:5] == [56, -2, -3, -4, 0]\n",
    "\n",
    "    b = GeneratingFunction(lambda n: n * 9)\n",
    "    assert (a - b)[10**9] == -9 * 10**9\n",
    "\n",
    "\n",
    "def test_mul():\n",
    "    x = GeneratingFunction.finite([0, 1])\n",
    "    x2 = x * x\n",
    "    poly1 = 3 * x2 - x**3 - 4\n",
    "    poly2 = x * 2 + 5\n",
    "    assert (poly1 * poly2)[:5] == [-20, -8, 15, 1, -2]\n",
    "\n",
    "    f = GeneratingFunction(fibb)\n",
    "    assert (-f * (x**2 + x - 1))[:100] == [1] + [0] * 99\n",
    "\n",
    "\n",
    "def test_div():\n",
    "    x = GeneratingFunction.finite([0, 1])\n",
    "    f = -1 / (x**2 + x - 1)\n",
    "    assert isinstance(f[10], int)\n",
    "    assert (-1 / (x**2 + x - 1))[:100] == GeneratingFunction(fibb)[:100]\n",
    "    assert (x / GeneratingFunction(fibb))[:100] == (-(x**3) - x**2 + x)[:100]\n",
    "    assert isinstance((x / 1)[10], int)\n",
    "    assert isinstance((f / -1)[10], int)\n",
    "    assert (x / (2 * x + 2))[1] == 0.5\n",
    "\n",
    "    assert (\n",
    "        (-GeneratingFunction(fibb) ** -3)[:10]\n",
    "        == ((x**2 + x - 1) ** 3)[:10]\n",
    "        == [-1, 3, 0, -5, 0, 3, 1, 0, 0, 0]\n",
    "    )\n",
    "\n",
    "\n",
    "def test_derivative():\n",
    "    x = GeneratingFunction.finite([0, 1])\n",
    "    f = 1 / (1 - x)\n",
    "    assert f.derivative()[:10] == list(range(1, 11))\n",
    "\n",
    "    g = GeneratingFunction(fibb)\n",
    "    assert (f * g).derivative()[:10] == (f.derivative() * g + g.derivative() * f)[:10]"
   ]
  }
 ],
 "metadata": {
  "colab": {
   "provenance": []
  },
  "kernelspec": {
   "display_name": "Python 3",
   "language": "python",
   "name": "python3"
  },
  "language_info": {
   "codemirror_mode": {
    "name": "ipython",
    "version": 3
   },
   "file_extension": ".py",
   "mimetype": "text/x-python",
   "name": "python",
   "nbconvert_exporter": "python",
   "pygments_lexer": "ipython3",
   "version": "3.13.0"
  }
 },
 "nbformat": 4,
 "nbformat_minor": 5
}
